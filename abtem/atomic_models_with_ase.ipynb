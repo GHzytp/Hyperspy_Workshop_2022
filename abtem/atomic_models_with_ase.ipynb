{
 "cells": [
  {
   "cell_type": "markdown",
   "id": "a5d6af69",
   "metadata": {},
   "source": [
    "# Atomic models for image simulation with ASE <a id='top'></a>\n",
    "\n",
    "This notebook introduces the Atomic Simulation Environment ([ASE](https://wiki.fysik.dtu.dk/ase/)) for creating atomic models for image simulation.\n",
    "\n",
    "ASE is a set of tools and Python modules for setting up, manipulating and visualizing atomic structures, the library is used in conjunction with a large number of atomistic simulation codes, for example [GPAW](https://wiki.fysik.dtu.dk/gpaw/) for running DFT simulations. In this notebook, ASE is introduced in the context of running electron microscopy image simulations with [abTEM](https://abtem.readthedocs.io/en/latest/index.html#). \n",
    "\n",
    "### Contents:\n",
    "\n",
    "1. <a href='#the_atoms_object'> The Atoms object\n",
    "2. <a href='#importing_structures'> Importing structures from files\n",
    "3. <a href='#visualization'> Visualization\n",
    "4. <a href='#manipulating'> Manipulating the atoms\n",
    "5. <a href='#exporting_structures'> Exporting structures to files\n",
    "6. <a href='#orthogonal'> Orthogonal and periodic supercells\n",
    "7. <a href='#nanoparticle'> Example: Nanoparticle on amorphous carbon\n",
    "\n",
    "### Authors:\n",
    "* 02/04/2022 Jacob Madsen - For HyperSpy workshop at ePSIC 2022"
   ]
  },
  {
   "cell_type": "code",
   "execution_count": 1,
   "id": "6e8da5b8",
   "metadata": {
    "pycharm": {
     "name": "#%%\n"
    }
   },
   "outputs": [
    {
     "name": "stdout",
     "output_type": "stream",
     "text": [
      "Tested with abTEM v1.0.0beta32. Your current version: 1.0.0beta32\n"
     ]
    }
   ],
   "source": [
    "import abtem as ab\n",
    "import ase\n",
    "from ase.visualize import view\n",
    "\n",
    "import numpy as np\n",
    "\n",
    "print('Tested with abTEM v1.0.0beta32. Your current version:', ab.__version__)"
   ]
  },
  {
   "cell_type": "markdown",
   "id": "a28d8176",
   "metadata": {},
   "source": [
    "##  The Atoms object <a id='the_atoms_object'></a>\n",
    "\n",
    "The `Atoms` object defines a collection of atoms. To define `Atoms` from scratch, we need to specify at least three things\n",
    "\n",
    "* positions\n",
    "* atomic numbers \n",
    "* supercell\n",
    "\n",
    "Here, we create a basic model of the N<sub>2</sub> molecule"
   ]
  },
  {
   "cell_type": "code",
   "execution_count": 2,
   "id": "a8df9627",
   "metadata": {},
   "outputs": [],
   "source": []
  },
  {
   "cell_type": "markdown",
   "id": "26895201",
   "metadata": {},
   "source": [
    "<div class= \"alert alert-info\">\n",
    "\n",
    "**Note: Units**\n",
    "\n",
    "abTEM and ASE uses the same unit conventions, as defined in the `ase.units` module. Thus, electron volts (eV), Ångström (Å), and atomic mass units are defined as 1.0.\n",
    "\n",
    "</div>"
   ]
  },
  {
   "cell_type": "markdown",
   "id": "71def3ef",
   "metadata": {},
   "source": [
    "We can access the corresponding properties as below."
   ]
  },
  {
   "cell_type": "code",
   "execution_count": 3,
   "id": "c5a7f1eb",
   "metadata": {},
   "outputs": [
    {
     "data": {
      "text/plain": [
       "array([[0. , 0. , 0. ],\n",
       "       [1.1, 0. , 0. ]])"
      ]
     },
     "execution_count": 3,
     "metadata": {},
     "output_type": "execute_result"
    }
   ],
   "source": []
  },
  {
   "cell_type": "code",
   "execution_count": null,
   "id": "fd8d8631",
   "metadata": {},
   "outputs": [],
   "source": []
  },
  {
   "cell_type": "code",
   "execution_count": 5,
   "id": "f2ecf400",
   "metadata": {},
   "outputs": [
    {
     "data": {
      "text/plain": [
       "Cell([2.0, 2.0, 2.0])"
      ]
     },
     "execution_count": 5,
     "metadata": {},
     "output_type": "execute_result"
    }
   ],
   "source": []
  },
  {
   "cell_type": "markdown",
   "id": "a1ad4125",
   "metadata": {},
   "source": [
    "## Importing structures from files <a id='importing_structures'></a>\n",
    "\n",
    "ASE can import all the common atomic structure formats, see a full list [here](https://wiki.fysik.dtu.dk/ase/ase/io/io.html). Below we import a `.cif`-file defining a unit cell of strontium titanate (SrTiO<sub>3</sub>)."
   ]
  },
  {
   "cell_type": "code",
   "execution_count": 6,
   "id": "4f42ab49",
   "metadata": {},
   "outputs": [
    {
     "data": {
      "text/plain": [
       "Atoms(symbols='SrTiO3', pbc=True, cell=[3.905, 3.905, 3.905], spacegroup_kinds=...)"
      ]
     },
     "execution_count": 6,
     "metadata": {},
     "output_type": "execute_result"
    }
   ],
   "source": []
  },
  {
   "cell_type": "markdown",
   "id": "1e2913da",
   "metadata": {},
   "source": [
    "## Visualization <a id='visualization'></a>\n",
    "\n",
    "\n",
    "We can visualize the atoms using a Matplotlib backend with `abTEM`'s `show_atoms` function. This function shows a 2D projection of the structure perpendicular to a specified plane. For example:"
   ]
  },
  {
   "cell_type": "code",
   "execution_count": 7,
   "id": "d9d0cf6a",
   "metadata": {},
   "outputs": [
    {
     "data": {
      "image/png": "[encoded data removed]",
      "text/plain": [
       "<Figure size 432x288 with 1 Axes>"
      ]
     },
     "metadata": {
      "needs_background": "light"
     },
     "output_type": "display_data"
    }
   ],
   "source": []
  },
  {
   "cell_type": "markdown",
   "id": "67b273a9",
   "metadata": {},
   "source": [
    "The default ASE gui, an interactive 3d viewer, may be started using the `view` function. However, the standard gui backend does not work in remote environments, hence, we instead use the ASE interface to [nglview](https://github.com/nglviewer/nglview)."
   ]
  },
  {
   "cell_type": "code",
   "execution_count": 8,
   "id": "73bab343",
   "metadata": {},
   "outputs": [
    {
     "data": {
      "application/vnd.jupyter.widget-view+json": {
       "model_id": "9640576a2e3d415f943ac2184535cee2",
       "version_major": 2,
       "version_minor": 0
      },
      "text/plain": []
     },
     "metadata": {},
     "output_type": "display_data"
    },
    {
     "data": {
      "application/vnd.jupyter.widget-view+json": {
       "model_id": "0e60ba9887a443b0906d5452c954f353",
       "version_major": 2,
       "version_minor": 0
      },
      "text/plain": [
       "HBox(children=(NGLWidget(), VBox(children=(Dropdown(description='Show', options=('All', 'O', 'Ti', 'Sr'), valu…"
      ]
     },
     "metadata": {},
     "output_type": "display_data"
    }
   ],
   "source": []
  },
  {
   "cell_type": "markdown",
   "id": "52ebeb04",
   "metadata": {},
   "source": [
    "Nglview can render a static image for outside use."
   ]
  },
  {
   "cell_type": "code",
   "execution_count": null,
   "id": "6b4c759c",
   "metadata": {},
   "outputs": [],
   "source": []
  },
  {
   "cell_type": "markdown",
   "id": "14a3d97e",
   "metadata": {},
   "source": [
    "## Manipulating the atoms <a id='manipulating'></a>\n",
    "abTEM always assumes that the imaging electrons propagate along the $z$-axis in the direction from _negative to positive_ coordinate values. Hence, to choose the zone axis, we need to manipulate the atoms so they are properly aligned.\n",
    "\n",
    "ASE has a large number of tools for manipulating imported structures, so we can't cover all of them here. We will look at the `surface` function, which can be used for creating a periodic surface (aligned with the $z$-axis) with a given set of Miller indices.\n",
    "\n",
    "Here we orient the strontium titanate structure along the (110)-direction."
   ]
  },
  {
   "cell_type": "code",
   "execution_count": 10,
   "id": "b0f71ca6",
   "metadata": {},
   "outputs": [
    {
     "data": {
      "image/png": "[encoded data removed]",
      "text/plain": [
       "<Figure size 432x288 with 1 Axes>"
      ]
     },
     "metadata": {
      "needs_background": "light"
     },
     "output_type": "display_data"
    }
   ],
   "source": []
  },
  {
   "cell_type": "markdown",
   "id": "761cbe83",
   "metadata": {},
   "source": [
    "Simulations may require a larger crystal, to repeat the atoms by 2 in $x$, 3 in $y$ and 10 in the $z$-direction, we just multiply the atoms."
   ]
  },
  {
   "cell_type": "code",
   "execution_count": 12,
   "id": "41e43aca",
   "metadata": {},
   "outputs": [],
   "source": []
  },
  {
   "cell_type": "markdown",
   "id": "6c57d3a5",
   "metadata": {},
   "source": [
    "The positions and atomic numbers are just `numpy` arrays and hence can be modified in-place. Here, we randomly substitutionally dope the structures by making the titanium atoms into indium atoms with a probability of 10 %.  "
   ]
  },
  {
   "cell_type": "code",
   "execution_count": 13,
   "id": "fbd928f8",
   "metadata": {},
   "outputs": [],
   "source": []
  },
  {
   "cell_type": "markdown",
   "id": "8ea702bb",
   "metadata": {},
   "source": [
    "Next, we center the atoms in the cell and add 5 Å of vacuum at the entrance and exit surfaces along the $z$-axis."
   ]
  },
  {
   "cell_type": "code",
   "execution_count": 14,
   "id": "bfda0e1c",
   "metadata": {},
   "outputs": [],
   "source": []
  },
  {
   "cell_type": "code",
   "execution_count": 15,
   "id": "e82bee94",
   "metadata": {},
   "outputs": [
    {
     "data": {
      "application/vnd.jupyter.widget-view+json": {
       "model_id": "94bbbca21dd04c128c8cc6e077c5f7cb",
       "version_major": 2,
       "version_minor": 0
      },
      "text/plain": [
       "HBox(children=(NGLWidget(), VBox(children=(Dropdown(description='Show', options=('All', 'Sr', 'Ti', 'O', 'La')…"
      ]
     },
     "metadata": {},
     "output_type": "display_data"
    }
   ],
   "source": []
  },
  {
   "cell_type": "markdown",
   "id": "0a107dbc",
   "metadata": {},
   "source": [
    "## Exporting structures to files <a id='exporting_structures'></a>\n",
    "\n",
    "The structure can be exported in all the common atomic structure formats. Here, we export the manipulated structure as `.cif`, so we can use it in the next tutorial. "
   ]
  },
  {
   "cell_type": "code",
   "execution_count": 16,
   "id": "ba702810",
   "metadata": {},
   "outputs": [
    {
     "name": "stderr",
     "output_type": "stream",
     "text": [
      "C:\\Users\\jacob\\anaconda3\\envs\\hspy_env\\lib\\site-packages\\ase\\io\\cif.py:787: UserWarning: Occupancies present but no occupancy info for \"{symbol}\"\n",
      "  warnings.warn(str(err))\n"
     ]
    }
   ],
   "source": []
  },
  {
   "cell_type": "markdown",
   "id": "d60ff25c",
   "metadata": {},
   "source": [
    "## Orthogonal and periodic supercells <a id='orthogonal'></a>\n",
    "\n",
    "The multislice algorithm requires an orthogonal periodic atomic structure as its input. However, taking any arbitrary structure and making it periodic and orthogonal is not always trivial. abTEM has a tool for solving this problem.\n",
    "\n",
    "To demonstrate the tool, we import a graphene structure with the minimal hexagonal unit cell. "
   ]
  },
  {
   "cell_type": "code",
   "execution_count": 17,
   "id": "4c6eff22",
   "metadata": {},
   "outputs": [
    {
     "data": {
      "image/png": "[encoded data removed]",
      "text/plain": [
       "<Figure size 432x288 with 1 Axes>"
      ]
     },
     "metadata": {
      "needs_background": "light"
     },
     "output_type": "display_data"
    }
   ],
   "source": []
  },
  {
   "cell_type": "markdown",
   "id": "0ab0f626",
   "metadata": {},
   "source": [
    "Applying `orthogonalize_cell` we find the smallest orthogonal version of a cell. "
   ]
  },
  {
   "cell_type": "code",
   "execution_count": 18,
   "id": "daa2fe94",
   "metadata": {},
   "outputs": [
    {
     "data": {
      "image/png": "[encoded data removed]",
      "text/plain": [
       "<Figure size 432x288 with 1 Axes>"
      ]
     },
     "metadata": {
      "needs_background": "light"
     },
     "output_type": "display_data"
    }
   ],
   "source": []
  },
  {
   "cell_type": "markdown",
   "id": "23f6bff6",
   "metadata": {},
   "source": [
    "The problem of creating orthogonal cells is not always as trivial for graphene. For those interested in more advanced uses of the `orthogonalize_cell` function, we have a [tutorial](https://abtem.readthedocs.io/en/latest/tutorials/orthogonal_cells.html) dedicated to the subject."
   ]
  },
  {
   "cell_type": "markdown",
   "id": "04d2b6a3",
   "metadata": {},
   "source": [
    "## Example: Nanoparticle on amorphous carbon <a id='nanoparticle'></a>\n",
    "\n",
    "As a final example, we create a model of a gold nanoparticle on amorphous carbon. \n",
    "\n",
    "A rough model of the carbon substrate is created by taking a diamond crystal and randomly displacing the atoms. The [`bulk`](https://wiki.fysik.dtu.dk/ase/ase/build/build.html#common-bulk-crystals) function can create common bulk crystal structures. "
   ]
  },
  {
   "cell_type": "code",
   "execution_count": 19,
   "id": "c02186b6",
   "metadata": {},
   "outputs": [],
   "source": []
  },
  {
   "cell_type": "markdown",
   "id": "071086af",
   "metadata": {},
   "source": [
    "ASE has modules for procedurally generating special structures such as [carbon nanotubes](https://wiki.fysik.dtu.dk/ase/ase/build/build.html#nanotubes) and [nanoparticles](https://wiki.fysik.dtu.dk/ase/ase/cluster/cluster.html). Here, we will use the `Decahedron` function to create a Decahedral gold nanoparticle. The nanoparticle is then rotated 30 degrees around the $x$-axis."
   ]
  },
  {
   "cell_type": "code",
   "execution_count": 20,
   "id": "d210111e",
   "metadata": {},
   "outputs": [],
   "source": []
  },
  {
   "cell_type": "markdown",
   "id": "63f1bba8",
   "metadata": {},
   "source": [
    "The nanoparticle is moved to the top center of the carbon structure using the `translate` method."
   ]
  },
  {
   "cell_type": "code",
   "execution_count": 21,
   "id": "ab95e8df",
   "metadata": {},
   "outputs": [],
   "source": []
  },
  {
   "cell_type": "markdown",
   "id": "87fff0ef",
   "metadata": {},
   "source": [
    "The nanoparticle and amourphous substrate is combined in a single model by simply adding them together."
   ]
  },
  {
   "cell_type": "code",
   "execution_count": 22,
   "id": "5cc79ee9",
   "metadata": {},
   "outputs": [],
   "source": []
  },
  {
   "cell_type": "markdown",
   "id": "8e96506e",
   "metadata": {},
   "source": [
    "Then the combined structure is centered along the $z$-axis, and the supercell is adjusted such that there is a vacuum of 2 Å on the top and bottom of the model."
   ]
  },
  {
   "cell_type": "code",
   "execution_count": 23,
   "id": "42100f3f",
   "metadata": {},
   "outputs": [],
   "source": []
  },
  {
   "cell_type": "markdown",
   "id": "5dd84be6",
   "metadata": {},
   "source": [
    "Finally, the model is written to disk and shown using `nglview`."
   ]
  },
  {
   "cell_type": "code",
   "execution_count": 24,
   "id": "2002502b",
   "metadata": {},
   "outputs": [
    {
     "data": {
      "application/vnd.jupyter.widget-view+json": {
       "model_id": "8f640036d9f54629a552fc15f9553297",
       "version_major": 2,
       "version_minor": 0
      },
      "text/plain": [
       "HBox(children=(NGLWidget(), VBox(children=(Dropdown(description='Show', options=('All', 'C', 'Cu'), value='All…"
      ]
     },
     "metadata": {},
     "output_type": "display_data"
    }
   ],
   "source": []
  }
 ],
 "metadata": {
  "kernelspec": {
   "display_name": "hspy_env",
   "language": "python",
   "name": "hspy_env"
  },
  "language_info": {
   "codemirror_mode": {
    "name": "ipython",
    "version": 3
   },
   "file_extension": ".py",
   "mimetype": "text/x-python",
   "name": "python",
   "nbconvert_exporter": "python",
   "pygments_lexer": "ipython3",
   "version": "3.10.4"
  }
 },
 "nbformat": 4,
 "nbformat_minor": 5
}
