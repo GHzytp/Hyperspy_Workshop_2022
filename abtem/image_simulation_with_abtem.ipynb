{
 "cells": [
  {
   "cell_type": "markdown",
   "id": "9eb2f2a6",
   "metadata": {},
   "source": [
    "# Introduction to image simulation with abTEM\n",
    "\n",
    "This tutorial is a short introduction to image simulation with abTEM. The tutorial covers some basic principles and presents examples for CBED and STEM image simulation. For more in depth information, and information on other simulation modes, see the following resources:\n",
    "\n",
    "* [The abTEM walkthrough](https://abtem.readthedocs.io/en/latest/walkthrough/introduction.html)\n",
    "* [Quickstart examples](https://github.com/jacobjma/abTEM/tree/master/examples)\n",
    "* [Examples repository](https://github.com/jacobjma/abTEM/tree/master/examples)\n",
    "\n",
    "### Contents:\n",
    "\n",
    "1. <a href='#import'> Import atomic model\n",
    "2. <a href='#potentials'> Creating Potentials with the IAM\n",
    "3. <a href='#waves'> The Waves object\n",
    "4. <a href='#probes'> Creating Probe wave functions\n",
    "5. <a href='#multislice'> Multislice simulation with Probe\n",
    "6. <a href='#scan'> Scanned multislice simulation \n",
    "7. <a href='#frozen_phonons'> The frozen phonon model\n",
    "8. <a href='#prism'> Large STEM simulation with PRISM\n",
    "\n",
    "### Authors:\n",
    "* 02/05/2022 Jacob Madsen - For HyperSpy workshop at ePSIC 2022"
   ]
  },
  {
   "cell_type": "code",
   "execution_count": null,
   "id": "ee5ca15d",
   "metadata": {},
   "outputs": [],
   "source": [
    "%matplotlib qt\n",
    "import abtem as ab\n",
    "import ase\n",
    "import numpy as np\n",
    "import matplotlib.pyplot as plt\n",
    "\n",
    "print('Tested with abTEM v1.0.0beta31. Your current version:', ab.__version__)"
   ]
  },
  {
   "cell_type": "markdown",
   "id": "3841be6f",
   "metadata": {},
   "source": [
    "## Import atomic model <a id='import'></a>\n",
    "\n",
    "To start running image simulations, we need an atomic model. Creating an atomic model is covered in \"atomic_models_with_ase.ipynb\", if you do not have the file \"my_atoms.cif\", please run that notebook first."
   ]
  },
  {
   "cell_type": "code",
   "execution_count": null,
   "id": "6361c021",
   "metadata": {},
   "outputs": [],
   "source": []
  },
  {
   "cell_type": "markdown",
   "id": "f7b8937a",
   "metadata": {},
   "source": [
    "## Creating `Potential`'s with the IAM <a id='potentials'></a>\n",
    "An electron beam interacts with a specimen through the Coulomb potential. Typically, the indepedent atom model (IAM) is used to model the potential, in this model the potential is calculated as a superposition of atomic potentials, this model is used when creating a standard `Potential` object. \n",
    "\n",
    "To define a `Potential`, we need to provide an `ASE` atoms object, a sampling rate (or pixel size) in $x$ and $y$, and a slice thickness in the $z$-direction (propagation direction). \n",
    "\n",
    "The multislice algorithm is only accurate in the limit of thin slices, however, thin slices also increases computational cost. A sensible value for the slice thickness is typically between $0.5 \\ Å$ and $2 \\ Å$."
   ]
  },
  {
   "cell_type": "code",
   "execution_count": null,
   "id": "0022a799",
   "metadata": {},
   "outputs": [],
   "source": []
  },
  {
   "cell_type": "markdown",
   "id": "a5f51aef",
   "metadata": {},
   "source": [
    "The `.build` method is available for many simulation objects. This method will convert a simulation object into a static array-based object."
   ]
  },
  {
   "cell_type": "code",
   "execution_count": null,
   "id": "285732bc",
   "metadata": {},
   "outputs": [],
   "source": []
  },
  {
   "cell_type": "markdown",
   "id": "cb1b319e",
   "metadata": {},
   "source": [
    "`abTEM` has some direct integration with `hyperspy`. Hence, some objects can be converted directly to `hyperspy` signals."
   ]
  },
  {
   "cell_type": "code",
   "execution_count": null,
   "id": "dfa71d5e",
   "metadata": {},
   "outputs": [],
   "source": []
  },
  {
   "cell_type": "markdown",
   "id": "b3f01391",
   "metadata": {},
   "source": [
    "We can use the `.plot` method introduced earlier in the workshop."
   ]
  },
  {
   "cell_type": "code",
   "execution_count": null,
   "id": "132b9550",
   "metadata": {},
   "outputs": [],
   "source": []
  },
  {
   "cell_type": "markdown",
   "id": "8420d1bd",
   "metadata": {},
   "source": [
    "## The `Waves` object <a id='waves'></a>\n",
    "The `Waves` object wraps a complex numpy array representing an arbitrary 2D wave function on a grid. Here we show how to define a plane wave on a $512 \\times 512$ grid, a lateral extent of $10\\times 10$ $\\mathrm{Å}^2$ and an energy of 300 keV."
   ]
  },
  {
   "cell_type": "code",
   "execution_count": null,
   "id": "dd43d688",
   "metadata": {},
   "outputs": [],
   "source": []
  },
  {
   "cell_type": "markdown",
   "id": "bfe0c394",
   "metadata": {},
   "source": [
    "The complex array can be accessed through the `array` property. "
   ]
  },
  {
   "cell_type": "code",
   "execution_count": null,
   "id": "90e0416b",
   "metadata": {},
   "outputs": [],
   "source": []
  },
  {
   "cell_type": "markdown",
   "id": "e05bc478",
   "metadata": {},
   "source": [
    "The real-space sampling in $x$ and $y$ of the wave function, is calculated by dividing the _extent_ by the number of _grid points_. The properties related to the grid, i.e. the extent, grid points and sampling can be accessed as:"
   ]
  },
  {
   "cell_type": "code",
   "execution_count": null,
   "id": "eca2ec6d",
   "metadata": {},
   "outputs": [],
   "source": [
    "print('extent: {:.1f} x {:.1f} Å^2'.format(*waves.extent))\n",
    "\n",
    "print('gpts: {} x {}'.format(*waves.gpts))\n",
    "\n",
    "print('sampling: {:.2f} x {:.2f} Å^2'.format(*waves.sampling))"
   ]
  },
  {
   "cell_type": "markdown",
   "id": "75b53e9f",
   "metadata": {},
   "source": [
    "The maximum scattering angle represented in a simulation depends on the real space sampling and electron energy."
   ]
  },
  {
   "cell_type": "code",
   "execution_count": null,
   "id": "f5c2d5d5",
   "metadata": {},
   "outputs": [],
   "source": [
    "print('maximum scattering angles: {:.1f} mrad, {:.1f} mrad'.format(*waves.cutoff_scattering_angles))"
   ]
  },
  {
   "cell_type": "markdown",
   "id": "9c4a8375",
   "metadata": {},
   "source": [
    "<div class= \"alert alert-info\">\n",
    "\n",
    "**Note: Real-space sampling**\n",
    "\n",
    "The real-space sampling is important because it controls the accuracy of the simulation at high scattering angles. The sampling defines the maximum spatial frequency $k_{max}$ via the formula:\n",
    "\n",
    "$$ k_{max} = \\frac{1}{2p} \\quad , $$\n",
    "\n",
    "where $p$ is the real-space sampling distance. To counteract aliasing artifacts due to the periodicity assumption of a discrete Fourier transform, abTEM supresses spatial frequencies above 2 / 3 of the maximum scattering angle, further reducing the maximum effective scattering angle by a factor of 2 / 3. Hence the maximum scattering angle $\\alpha_{max}$ is given by:\n",
    "\n",
    "$$ \\alpha_{max} = \\frac{2}{3}\\frac{\\lambda}{2p} \\quad , $$\n",
    "\n",
    "where $\\lambda$ is the relativistic electron wavelength. \n",
    "</div>"
   ]
  },
  {
   "cell_type": "markdown",
   "id": "1ad4bd6a",
   "metadata": {},
   "source": [
    "## Creating `Probe` wave functions <a id='probes'></a>\n",
    "In STEM, the wave function is a focused beam of electrons. The convention used in abTEM is a probe defined by\n",
    "\n",
    "$$\n",
    "    \\phi(\\mathbf{k}, \\mathbf{r}_0) = A(k) \\exp(-i \\chi(\\mathbf{k})) \\exp(-i 2 \\pi \\mathbf{k} \\cdot \\mathbf{r}_0) \\quad ,\n",
    "$$\n",
    "\n",
    "where, $\\mathbf{k}$ is the spatial frequency, $A(k)$ is the condenser aperture function and $\\chi(\\mathbf{k})$ is the phase error and $\\mathbf{r}_0$ is the probe position.\n",
    "\n",
    "If the microscope is well aligned then off-axis aberrations are small and the phase error is dominated by defocus and spherical aberration\n",
    "\n",
    "$$\n",
    "    \\chi(k) \\approx \\frac{2\\pi}{\\lambda}\\left( \\frac{\\lambda^2 k^2}{2} \\Delta f + \\frac{\\lambda^4 k^4}{4} C_s \\right) \\quad ,\n",
    "$$\n",
    "\n",
    "where $\\Delta f$ is the defocus and $C_s$ is the third order spherical aberration. See our [walkthrough section](https://abtem.readthedocs.io/en/latest/walkthrough/05_contrast_transfer_function.html) for more information.\n",
    "\n",
    "We create a probe with a sampling of $0.05 \\ \\mathrm{Å}$, an extent of $10\\times 10$ $\\mathrm{Å}^2$, an energy of $100 \\ \\mathrm{keV}$, a convergence semiangle of $25 \\ \\mathrm{mrad}$, and a defocus of $50 \\ \\mathrm{Å}$. "
   ]
  },
  {
   "cell_type": "code",
   "execution_count": null,
   "id": "78a7435d",
   "metadata": {},
   "outputs": [],
   "source": []
  },
  {
   "cell_type": "markdown",
   "id": "d232a4f0",
   "metadata": {},
   "source": [
    "The [Contrast Transfer Function](https://en.wikipedia.org/wiki/High-resolution_transmission_electron_microscopy#The_phase_contrast_transfer_function) of the probe may be shown as below."
   ]
  },
  {
   "cell_type": "code",
   "execution_count": null,
   "id": "dc880d7a",
   "metadata": {},
   "outputs": [],
   "source": []
  },
  {
   "cell_type": "markdown",
   "id": "521d4707",
   "metadata": {},
   "source": [
    "We may want to `.build` the probe to obtain an array representation."
   ]
  },
  {
   "cell_type": "code",
   "execution_count": null,
   "id": "d0679c47",
   "metadata": {},
   "outputs": [],
   "source": []
  },
  {
   "cell_type": "markdown",
   "id": "f88308cb",
   "metadata": {},
   "source": [
    "The wave function intensity can be shown in real or Fourier space using the `.intensity` or `.diffraction_pattern` method and showing the resulting `Measurement`."
   ]
  },
  {
   "cell_type": "code",
   "execution_count": null,
   "id": "bbd72628",
   "metadata": {},
   "outputs": [],
   "source": []
  },
  {
   "cell_type": "markdown",
   "id": "aa0f485a",
   "metadata": {},
   "source": [
    "## Multislice simulation with `Probe` (CBED) <a id='multislice'></a>\n",
    "We use the multislice algorithm to propagate the probe through the potential. We can choose where to place the probe by setting the `positions`."
   ]
  },
  {
   "cell_type": "code",
   "execution_count": null,
   "id": "3b87ec18",
   "metadata": {},
   "outputs": [],
   "source": []
  },
  {
   "cell_type": "markdown",
   "id": "7f401610",
   "metadata": {},
   "source": [
    "We show the `.intensity` and `.diffraction_pattern` as above."
   ]
  },
  {
   "cell_type": "code",
   "execution_count": null,
   "id": "ea0c1e08",
   "metadata": {},
   "outputs": [],
   "source": []
  },
  {
   "cell_type": "markdown",
   "id": "20246121",
   "metadata": {},
   "source": [
    "CBED is often used for determining sample the thickness by comparing an experiment to a thickness series. The current version of abTEM has no dedicated function for simulating a thickness series, however, it is easy to create one using a loop.\n",
    "\n",
    "We propagate the probe wave function one slice at a time by looping over potential slices, after each slice a measurement is saved. Lastly, all the measurements are stacked in a single object."
   ]
  },
  {
   "cell_type": "code",
   "execution_count": null,
   "id": "7f936ef2",
   "metadata": {},
   "outputs": [],
   "source": []
  },
  {
   "cell_type": "markdown",
   "id": "81bfdeb7",
   "metadata": {},
   "source": [
    "The measurement is converted to a hyperspy signal. In the current version of abTEM the axes are not automatically converted, hence we need to set the axes manually."
   ]
  },
  {
   "cell_type": "code",
   "execution_count": null,
   "id": "7709dec2",
   "metadata": {},
   "outputs": [],
   "source": []
  },
  {
   "cell_type": "code",
   "execution_count": null,
   "id": "083920d1",
   "metadata": {},
   "outputs": [],
   "source": []
  },
  {
   "cell_type": "markdown",
   "id": "50838252",
   "metadata": {},
   "source": [
    "## Scanned multislice simulation (HAADF) <a id='scan'></a>\n",
    "\n",
    "Scanning imaging modes such as STEM works by rastering an electron probe across a sample pixel by pixel and recording the scattering signal. \n",
    "\n",
    "We create a grid scan and set the sampling (probe step size) to the Nyquist sampling of the probe. "
   ]
  },
  {
   "cell_type": "code",
   "execution_count": null,
   "id": "4b82bec1",
   "metadata": {},
   "outputs": [],
   "source": []
  },
  {
   "cell_type": "markdown",
   "id": "71c42cbe",
   "metadata": {},
   "source": [
    "<div class= \"alert alert-info\">\n",
    "\n",
    "**Note: Scan sampling**\n",
    "\n",
    "The scan sampling should not be confused with the wave function sampling. The scan sampling in any integrated STEM imaging mode should generally be set to the [Nyquist sampling rate](https://en.wikipedia.org/wiki/Nyquist%E2%80%93Shannon_sampling_theorem). The image may be interpolated to the typically much higher experimental sampling rate.\n",
    "\n",
    "</div>\n",
    "\n",
    "In experiments the wave functions are not directly detected. Correspondingly, in abTEM the exit waves are \"detected\" using a detector object. There are several different types of detectors, the most basic, the `AnnularDetector`, may be used for bright-field, medium- or high-angle annular dark-field microscopy. Depending on the integration region.\n",
    "\n",
    "The integration region is given by an inner and outer radius in mrad; below we create three different types of detectors. We show the integration region of the HAADF detector."
   ]
  },
  {
   "cell_type": "code",
   "execution_count": null,
   "id": "92bf1128",
   "metadata": {},
   "outputs": [],
   "source": []
  },
  {
   "cell_type": "markdown",
   "id": "94611e39",
   "metadata": {},
   "source": [
    "The scanned multislice simulations are started as below, a progress bar is shown to indicate how long time the simulation will take. It took about 35s on my 8-core\\@2.6 GHz laptop."
   ]
  },
  {
   "cell_type": "code",
   "execution_count": null,
   "id": "cde5d8d1",
   "metadata": {},
   "outputs": [],
   "source": []
  },
  {
   "cell_type": "markdown",
   "id": "2098d261",
   "metadata": {},
   "source": [
    "We show the measurement as earlier."
   ]
  },
  {
   "cell_type": "code",
   "execution_count": null,
   "id": "d705a6eb",
   "metadata": {},
   "outputs": [],
   "source": []
  },
  {
   "cell_type": "markdown",
   "id": "8ae27da2",
   "metadata": {},
   "source": [
    "It is usually necessary to do some post-processing on the simulated images. In particular, we may want to resample the images. \n",
    "\n",
    "We usually also want to add a gaussian blur to simulate partial spatial coherence (i.e. source size). Partial temporal coherence (energy spread) is more complicated to include, and will not be covered here."
   ]
  },
  {
   "cell_type": "code",
   "execution_count": null,
   "id": "4db32b5f",
   "metadata": {},
   "outputs": [],
   "source": []
  },
  {
   "cell_type": "markdown",
   "id": "0ab008c8",
   "metadata": {},
   "source": [
    "## The frozen phonon model <a id='frozen_phonons'></a>\n",
    "The atoms in any real material at a particular instance of time are not exactly located at their symmetrical lattice points due to thermal and zero-point vibrations. In the Frozen phonon approximation, the effects of thermal vibrations is simulated by the _intensities_ averaged over several different configurations of atoms with different random offsets. \n",
    "\n",
    "To simulate frozen phonons the `Atoms` are wrapped with a `FrozenPhonons` object. To define a `FrozenPhonons` object we also need to provide the magnitude of the thermal vibrations for each atomic species.\n",
    "\n",
    "The magnitude of thermal vibrations are often tabulated as the Debye-Waller $B$ factor, the standard deviation of the atomic positions, $\\sigma$, is related as:  \n",
    "\n",
    "$$\n",
    "\\sigma = \\sqrt{\\frac{B}{8\\pi^2}} \\quad .\n",
    "$$\n",
    "\n",
    "Obtaining the right magnitude of thermal vibrations for any particular material, is not always trivial, here we just use the same value 0.1 Å for all atomic numbers. We set the number random structures in the thermal ensemble to 32."
   ]
  },
  {
   "cell_type": "code",
   "execution_count": null,
   "id": "98cc891b",
   "metadata": {},
   "outputs": [],
   "source": []
  },
  {
   "cell_type": "markdown",
   "id": "89e2739f",
   "metadata": {},
   "source": [
    "We can draw a particular frozen phonon configuration by iterating."
   ]
  },
  {
   "cell_type": "code",
   "execution_count": null,
   "id": "b986bf61",
   "metadata": {},
   "outputs": [],
   "source": []
  },
  {
   "cell_type": "markdown",
   "id": "7d1d660b",
   "metadata": {},
   "source": [
    "The potential can be created as above, we just provide the frozen phonons instead of the atoms. "
   ]
  },
  {
   "cell_type": "code",
   "execution_count": null,
   "id": "be1ebcb7",
   "metadata": {},
   "outputs": [],
   "source": []
  },
  {
   "cell_type": "markdown",
   "id": "24c72410",
   "metadata": {},
   "source": [
    "The potential object can be used in the same way as above, here we do a CBED simulation, since the HAADF simulation is too time-consuming for a demo."
   ]
  },
  {
   "cell_type": "code",
   "execution_count": null,
   "id": "6bc5d450",
   "metadata": {},
   "outputs": [],
   "source": []
  },
  {
   "cell_type": "markdown",
   "id": "5f1d4dda",
   "metadata": {},
   "source": [
    "The output wave function is 3d, the first dimension is the frozen phonon ensemble dimension. "
   ]
  },
  {
   "cell_type": "code",
   "execution_count": null,
   "id": "2578dda2",
   "metadata": {},
   "outputs": [],
   "source": []
  },
  {
   "cell_type": "markdown",
   "id": "e44d29a7",
   "metadata": {},
   "source": [
    "To finalize the diffraction pattern we take the mean over the ensemble dimension."
   ]
  },
  {
   "cell_type": "code",
   "execution_count": null,
   "id": "dde6fe2d",
   "metadata": {},
   "outputs": [],
   "source": []
  },
  {
   "cell_type": "markdown",
   "id": "6d36cc0e",
   "metadata": {},
   "source": [
    "Note: some other imaging modes will average over frozen phonons by default to conserve memory."
   ]
  },
  {
   "cell_type": "markdown",
   "id": "2a2b9083",
   "metadata": {},
   "source": [
    "## Large STEM simulation with PRISM <a id='prism'></a>\n",
    "Multslice simulations of STEM images can be very slow because the scattering of the electron probe is calculated from scratch at each pixel of the image. An alternative is to use the [PRISM algorithm](https://prism-em.com). PRISM almost always provides a decent speed-up for images with many probe positions, and allows for huge speedups, at a modest cost to accuracy, by using Fourier interpolation.\n",
    "\n",
    "We import the moderately large model of a nanoparticle on carbon that we constructed in \"atomic_models_with_ase.ipynb\"."
   ]
  },
  {
   "cell_type": "code",
   "execution_count": null,
   "id": "a3c7c25a",
   "metadata": {},
   "outputs": [],
   "source": []
  },
  {
   "cell_type": "markdown",
   "id": "62cea77b",
   "metadata": {},
   "source": [
    "In abTEM, the PRISM algorithm can be used by simply exchanging the `Probe` for the `SMatrix`. However, there is one additional keyword the user has to know about, namely interpolation.\n",
    "\n",
    "Increasing the interpolation decreases the number of plane waves necessary in the plane wave expansion of the probe, hence lowering both time and memory consumption. The necessary price is that the interpolation factor also decreases the Fourier space sampling rate, i.e. the pixels of the detected diffraction patterns becomes larger."
   ]
  },
  {
   "cell_type": "code",
   "execution_count": null,
   "id": "4b0f4335",
   "metadata": {},
   "outputs": [],
   "source": []
  },
  {
   "cell_type": "markdown",
   "id": "8ccbd270",
   "metadata": {},
   "source": [
    "We create potential, scan and a MAADF and pixelated detector as we have done before."
   ]
  },
  {
   "cell_type": "code",
   "execution_count": null,
   "id": "9aae9edd",
   "metadata": {},
   "outputs": [],
   "source": []
  },
  {
   "cell_type": "markdown",
   "id": "62c644f3",
   "metadata": {},
   "source": [
    "The simulation is run as before. We lower the maximum number of plane waves propagated simulataneously to lower the memory footprint slightly."
   ]
  },
  {
   "cell_type": "code",
   "execution_count": null,
   "id": "8c100bbc",
   "metadata": {},
   "outputs": [],
   "source": []
  },
  {
   "cell_type": "markdown",
   "id": "cadb6066",
   "metadata": {},
   "source": [
    "The simulation took around 30 seconds on my 8-core\\@2.6 GHz laptop. The same simulation is estimated to take 4 hours on the same system.\n",
    "\n",
    "Lastly, we postprocess and show the MAADF image, as we have done before."
   ]
  },
  {
   "cell_type": "code",
   "execution_count": null,
   "id": "2efffc21",
   "metadata": {},
   "outputs": [],
   "source": []
  }
 ],
 "metadata": {
  "kernelspec": {
   "display_name": "hspy_environment",
   "language": "python",
   "name": "hspy_environment"
  },
  "language_info": {
   "codemirror_mode": {
    "name": "ipython",
    "version": 3
   },
   "file_extension": ".py",
   "mimetype": "text/x-python",
   "name": "python",
   "nbconvert_exporter": "python",
   "pygments_lexer": "ipython3",
   "version": "3.10.4"
  }
 },
 "nbformat": 4,
 "nbformat_minor": 5
}
