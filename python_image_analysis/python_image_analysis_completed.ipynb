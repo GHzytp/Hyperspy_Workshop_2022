{
 "cells": [
  {
   "cell_type": "markdown",
   "id": "2293bdaa",
   "metadata": {},
   "source": [
    "**WORK IN PROGRESS**\n",
    "\n",
    "\n",
    "\n",
    "# Creating an image analysis algorithm with Python\n",
    "\n",
    "In this notebook, we create an image analysis algorithm using the Python libraries `numpy`, `scipy` and `scikit-image`. We also use the image simulation code `abTEM` to generate example data. The example algorithm finds single vacancies in a noisy simulated graphene image by using Bragg filtering and blob detection.\n",
    "\n",
    "### Contents:\n",
    "\n",
    "1. [Simulating HRTEM test data](#simulation)\n",
    "    1. Create defect graphene sheet\n",
    "    2. Simulate HRTEM image\n",
    "    3. Postprocess simulated image\n",
    "2. [Finding defects with Bragg filtering and blob detection](#finding_defects)\n",
    "    1. Apply windowed Fourier transform\n",
    "    2. Find diffraction spots\n",
    "    3. Create Bragg mask\n",
    "    4. Apply Bragg filter\n",
    "    5. Blob detection\n",
    "\n",
    "### Authors:\n",
    "* 02/04/2022 Jacob Madsen - For HyperSpy workshop at ePSIC 2022"
   ]
  },
  {
   "cell_type": "code",
   "execution_count": null,
   "id": "d6e99a67",
   "metadata": {},
   "outputs": [],
   "source": [
    "%matplotlib notebook\n",
    "import abtem as ab\n",
    "from abtem.structures import cut_rectangle\n",
    "from abtem.noise import poisson_noise\n",
    "import ase\n",
    "\n",
    "import matplotlib.pyplot as plt\n",
    "import numpy as np\n",
    "import scipy\n",
    "import skimage"
   ]
  },
  {
   "cell_type": "markdown",
   "id": "9df92348",
   "metadata": {},
   "source": [
    "## Simulating test data <a id='simulation'></a>\n",
    "When developing algorithms for image analysis it is sometimes useful to use simulated data. Simulations can let you custom-taylor the data to some scenario and you are able to tune parameters such as noise level to perfect the algorithm. Since the true sample structure is known in a simulation it is easy to quantify \n",
    "\n",
    "The next cells assumes that you have seen the \"atomic_models_with_ase.ipynb\" and \"image_simulation_with_abtem.ipynb\" notebooks.\n",
    "\n",
    "We import a graphene structure, rotate the cell, then use the `cut_rectangle` to create an axis-aligned and orthogonal structure. Note that the structure is _not_ periodic, this creates an issue later on that we need to solve. "
   ]
  },
  {
   "cell_type": "markdown",
   "id": "f163de7f",
   "metadata": {},
   "source": [
    "### Create a defect graphene sheet "
   ]
  },
  {
   "cell_type": "code",
   "execution_count": null,
   "id": "a5f3847c",
   "metadata": {},
   "outputs": [],
   "source": [
    "graphene = ase.io.read('hexagonal_graphene.cif')\n",
    "\n",
    "graphene.rotate('z', 25, rotate_cell=True)\n",
    "\n",
    "graphene = cut_rectangle(graphene, extent = (110, 110), origin = (0, 0))"
   ]
  },
  {
   "cell_type": "markdown",
   "id": "5449ca00",
   "metadata": {},
   "source": [
    "We add point vacancies with a probability of 0.5 %. "
   ]
  },
  {
   "cell_type": "code",
   "execution_count": null,
   "id": "325d5de6",
   "metadata": {},
   "outputs": [],
   "source": [
    "defect_graphene = graphene.copy()\n",
    "\n",
    "del defect_graphene[np.where(np.random.rand(len(defect_graphene)) < .005)]\n",
    "\n",
    "ab.show_atoms(defect_graphene);"
   ]
  },
  {
   "cell_type": "markdown",
   "id": "64c1d437",
   "metadata": {},
   "source": [
    "### Simulate HRTEM image"
   ]
  },
  {
   "cell_type": "markdown",
   "id": "b85fbc8b",
   "metadata": {},
   "source": [
    "We create a `PlaneWave` with an acceleration voltage of 80 keV real space sampling of 0.2 Å. Then the multislice algorithm is used to calculate the exit wave function. To use a potential with default parameters, it is unneccesary to create on explicitly. "
   ]
  },
  {
   "cell_type": "code",
   "execution_count": null,
   "id": "09ab94ca",
   "metadata": {},
   "outputs": [],
   "source": [
    "wave = ab.PlaneWave(energy=80e3, sampling=.05)\n",
    "\n",
    "exit_wave = wave.multislice(defect_graphene)"
   ]
  },
  {
   "cell_type": "markdown",
   "id": "60b77b43",
   "metadata": {},
   "source": [
    "We show the intensity of the complex exit wave function."
   ]
  },
  {
   "cell_type": "code",
   "execution_count": null,
   "id": "26f9eae0",
   "metadata": {},
   "outputs": [],
   "source": [
    "exit_wave.show();"
   ]
  },
  {
   "cell_type": "markdown",
   "id": "ccd99a4f",
   "metadata": {},
   "source": [
    "To create an image we need apply the effects of the objective lens. If the microscope is well aligned then off-axis aberrations are small and the phase error is dominated by defocus and spherical aberration\n",
    "\n",
    "$$\n",
    "    \\chi(k) \\approx \\frac{2\\pi}{\\lambda}\\left( \\frac{\\lambda^2 k^2}{2} \\Delta f + \\frac{\\lambda^4 k^4}{4} C_s \\right) \\quad ,\n",
    "$$\n",
    "\n",
    "where $\\Delta f$ is the defocus and $C_s$ is the third order spherical aberration.\n",
    "\n",
    "Here we set the spherical aberration to $80 \\ \\mu m$ ($80000 \\mathrm{Å}$), and adjust the defocus to the [Scherzer defocus](https://en.wikipedia.org/wiki/High-resolution_transmission_electron_microscopy#Scherzer_defocus)."
   ]
  },
  {
   "cell_type": "code",
   "execution_count": null,
   "id": "c04ec1c6",
   "metadata": {},
   "outputs": [],
   "source": [
    "Cs = -40e4 # Å\n",
    "\n",
    "defocus = ab.transfer.scherzer_defocus(energy=wave.energy, Cs=Cs)\n",
    "\n",
    "print(f'Scherzer defocus: {defocus:.2f} Å')"
   ]
  },
  {
   "cell_type": "markdown",
   "id": "12ac09e5",
   "metadata": {},
   "source": [
    "<div class= \"alert alert-info\">\n",
    "\n",
    "**Note: Defocus convention**\n",
    "\n",
    "The defocus is by convention defined as negative `C10`. Applying a positive defocus is equivalent to free-space propagation in the direction from positive to negative $z$.\n",
    "    \n",
    "</div>\n",
    "\n",
    "We adjust the `semiangle_cutoff` (or objective aperture) to the first crossing of zero."
   ]
  },
  {
   "cell_type": "code",
   "execution_count": null,
   "id": "1785a980",
   "metadata": {},
   "outputs": [],
   "source": [
    "objective_aperture = 30 # mrad\n",
    "\n",
    "ctf = ab.CTF(Cs=Cs, defocus=defocus, energy=wave.energy, semiangle_cutoff=objective_aperture)\n",
    "\n",
    "plt.figure()\n",
    "ctf.show();"
   ]
  },
  {
   "cell_type": "markdown",
   "id": "b9ce073c",
   "metadata": {},
   "source": [
    "Additionally, we may want to include partial temporal coherence by setting the focal spread of the CTF."
   ]
  },
  {
   "cell_type": "code",
   "execution_count": null,
   "id": "11b8dc76",
   "metadata": {},
   "outputs": [],
   "source": [
    "ctf.focal_spread = 30 # Å\n",
    "\n",
    "plt.figure()\n",
    "ax = ctf.show()"
   ]
  },
  {
   "cell_type": "markdown",
   "id": "dbfe70c2",
   "metadata": {},
   "source": [
    "<div class= \"alert alert-info\">\n",
    "    \n",
    "**Note: The quasi-coherent approximation**\n",
    "    \n",
    "Partial spatial coherence is in the contrast transfer function using the quasi-coherent approximation, where high spatial frequencies are damped using an envelope function. While this is efficient, the approximation may not always be appropriate.\n",
    "\n",
    "</div>\n",
    "\n",
    "We apply the contrast transfer function and calculate the image intensity."
   ]
  },
  {
   "cell_type": "code",
   "execution_count": null,
   "id": "40739909",
   "metadata": {},
   "outputs": [],
   "source": [
    "intensity = exit_wave.apply_ctf(ctf).intensity()\n",
    "intensity.show();"
   ]
  },
  {
   "cell_type": "markdown",
   "id": "3f51039b",
   "metadata": {},
   "source": [
    "### Postprocess simulated image"
   ]
  },
  {
   "cell_type": "markdown",
   "id": "330dd6a4",
   "metadata": {},
   "source": [
    "Notice the image artifacts along the borders, this is because the input atomic model is non-periodic. A quick fix is to simply crop the boundary region from the image, here we remove a margin of $5 \\ \\mathrm{Å}$ at each side of the image. "
   ]
  },
  {
   "cell_type": "code",
   "execution_count": null,
   "id": "4940f658",
   "metadata": {},
   "outputs": [],
   "source": [
    "cropped = intensity.interpolate(.2).crop(margin = (5, 5))\n",
    "cropped.show();"
   ]
  },
  {
   "cell_type": "markdown",
   "id": "3e58d1bc",
   "metadata": {},
   "source": [
    "We can add a realistic level of Poisson noise (shot noise) by setting an electron dose of $10000 \\ \\mathrm{e}^- / \\mathrm{Å}^2$"
   ]
  },
  {
   "cell_type": "code",
   "execution_count": null,
   "id": "1324dda3",
   "metadata": {},
   "outputs": [],
   "source": [
    "dose = 1e4 # e- / Å^2\n",
    "\n",
    "noisy = poisson_noise(cropped, dose=dose)\n",
    "noisy.show();"
   ]
  },
  {
   "cell_type": "markdown",
   "id": "fae047d4",
   "metadata": {},
   "source": []
  },
  {
   "cell_type": "code",
   "execution_count": null,
   "id": "4dbdf69a",
   "metadata": {},
   "outputs": [],
   "source": [
    "image = noisy.array\n",
    "\n",
    "plt.figure()\n",
    "plt.imshow(image);"
   ]
  },
  {
   "cell_type": "markdown",
   "id": "13b81612",
   "metadata": {},
   "source": [
    "<div class= \"alert alert-info\">\n",
    "\n",
    "**Note: Axes convention**\n",
    "\n",
    "The axes convention for arrays representing a wave functions assigns the first axis to the $x$-axis and the second axis to the $y$-axis, and a larger array index implies a larger real-space coordinate. This is different from the convention often used for images. The correct way of displaying an array with `matplotplib` is given below.\n",
    "    \n",
    "```\n",
    "import matplotlib.pyplot as plt\n",
    "image = np.abs(waves.array[0]) ** 2\n",
    "plt.imshow(image.T, extent=[0, waves.extent[0], 0, waves.extent[1]], origin='lower')\n",
    "```     \n",
    "  \n",
    "</div>"
   ]
  },
  {
   "cell_type": "markdown",
   "id": "178ac776",
   "metadata": {},
   "source": [
    "## Finding defects with Bragg filtering and blob detection <a id='finding_defects'></a>"
   ]
  },
  {
   "cell_type": "markdown",
   "id": "86d428ac",
   "metadata": {},
   "source": [
    "### Apply windowed Fourier transform\n",
    "\n",
    "We apply a Fourier transform using the `np.fft` module. \n"
   ]
  },
  {
   "cell_type": "code",
   "execution_count": null,
   "id": "db571361",
   "metadata": {},
   "outputs": [],
   "source": [
    "f = np.fft.fftshift(np.fft.fft2(image))"
   ]
  },
  {
   "cell_type": "markdown",
   "id": "188f287d",
   "metadata": {},
   "source": [
    "The Fourier transform is complex-valued in general, hence it is often more convenient to display the absolute value. We also take the logarithm as the zero'th order spot would domminate the signal otherwise, note that we add 1 to the absolute value to avoid dividing by zero."
   ]
  },
  {
   "cell_type": "code",
   "execution_count": null,
   "id": "67f71dfd",
   "metadata": {},
   "outputs": [],
   "source": [
    "def fft_display_values(f):\n",
    "    return np.log(1 + np.abs(f))\n",
    "\n",
    "plt.figure()\n",
    "plt.imshow(fft_display_values(f));"
   ]
  },
  {
   "cell_type": "markdown",
   "id": "166b484c",
   "metadata": {},
   "source": [
    "The streaks around the diffraction in the FFT come from the discontinuity at the boundary of the image and can be removed by applying an [window function](https://en.wikipedia.org/wiki/Window_function) to the original signal before computating of the FFT. \n",
    "\n",
    "The `scipy.signal.windows` module has a multiple of available window functions, see [docs](https://docs.scipy.org/doc/scipy/reference/signal.windows.html). Here we choose a Hanning window, this is also default when setting `apodization = True` using the `.fft` method of a `hyperspy` signal.\n",
    "\n",
    "Since the created windows are 1d, we calculate the [outer product](https://en.wikipedia.org/wiki/Outer_product) to obtain a 2d window."
   ]
  },
  {
   "cell_type": "code",
   "execution_count": null,
   "id": "78af7e15",
   "metadata": {},
   "outputs": [],
   "source": [
    "import scipy.signal\n",
    "\n",
    "hanning_x = scipy.signal.windows.hann(image.shape[0])\n",
    "hanning_y = scipy.signal.windows.hann(image.shape[1])\n",
    "\n",
    "hanning_window = np.outer(hanning_x, hanning_y)\n",
    "\n",
    "plt.figure()\n",
    "plt.imshow(hanning_window)\n",
    "plt.colorbar();"
   ]
  },
  {
   "cell_type": "markdown",
   "id": "a5c7222d",
   "metadata": {},
   "source": [
    "To use the window function "
   ]
  },
  {
   "cell_type": "code",
   "execution_count": null,
   "id": "472b973e",
   "metadata": {},
   "outputs": [],
   "source": [
    "f = np.fft.fftshift(np.fft.fft2(image * hanning_window))\n",
    "\n",
    "plt.figure()\n",
    "plt.imshow(fft_display_values(f));"
   ]
  },
  {
   "cell_type": "markdown",
   "id": "c33b31ed",
   "metadata": {},
   "source": [
    "### Find diffraction spots\n",
    "\n",
    "The `skimage.feature.peak_local_max` function returns the coordinates of local peaks (maxima) in an image. A minimum distance between the detected peaks is given to avoid detecting the same peak multiple times."
   ]
  },
  {
   "cell_type": "code",
   "execution_count": null,
   "id": "90ead234",
   "metadata": {},
   "outputs": [],
   "source": [
    "coordinates = skimage.feature.peak_local_max(np.abs(f), min_distance=10)"
   ]
  },
  {
   "cell_type": "markdown",
   "id": "a4736ef7",
   "metadata": {},
   "source": [
    "Plotting the detected peaks, we see that, in addition to the diffraction spots, a lot of unwanted peaks in the random noise was found."
   ]
  },
  {
   "cell_type": "code",
   "execution_count": null,
   "id": "8069bebe",
   "metadata": {},
   "outputs": [],
   "source": [
    "plt.figure()\n",
    "plt.imshow(fft_display_values(f))\n",
    "plt.scatter(coordinates[:,1], coordinates[:,0], s = 50, facecolors = 'none', edgecolors = 'r');"
   ]
  },
  {
   "cell_type": "markdown",
   "id": "0133bda1",
   "metadata": {},
   "source": [
    "We expect the most intense peak to be the zero'th order spot, the next six peaks will be the first order spots. Hence, we may select these spots by slicing the array of coordinates from index 1 through 7. "
   ]
  },
  {
   "cell_type": "code",
   "execution_count": null,
   "id": "307d2df6",
   "metadata": {},
   "outputs": [],
   "source": [
    "selected_coordinates = coordinates[1:7]\n",
    "\n",
    "plt.figure()\n",
    "plt.imshow(fft_display_values(f))\n",
    "plt.scatter(selected_coordinates[:,1], selected_coordinates[:,0], s = 100, facecolors = 'none', edgecolors = 'r');"
   ]
  },
  {
   "cell_type": "markdown",
   "id": "db2ec925",
   "metadata": {},
   "source": [
    "### Create Bragg mask\n",
    "\n",
    "The Bragg mask will be an array with zeros everywhere except for the regions around the first order diffraction spots. \n",
    "\n",
    "We start by creating an array of zeros and set the pixels at the diffraction spots to 1, i.e. the array represents a set of delta-functions placed at the positions of the Bragg spots."
   ]
  },
  {
   "cell_type": "code",
   "execution_count": null,
   "id": "42fe8cd2",
   "metadata": {},
   "outputs": [],
   "source": [
    "delta_mask = np.zeros_like(f, dtype=float)\n",
    "\n",
    "delta_mask[selected_coordinates[:,0], selected_coordinates[:,1]] = 1\n",
    "\n",
    "plt.figure()\n",
    "plt.imshow(delta_mask);"
   ]
  },
  {
   "cell_type": "markdown",
   "id": "1bdd0c5c",
   "metadata": {},
   "source": [
    "`skimage.morphology` has various structuring elements such as disks and rectangles."
   ]
  },
  {
   "cell_type": "code",
   "execution_count": null,
   "id": "631c8f5c",
   "metadata": {},
   "outputs": [],
   "source": [
    "disk = skimage.morphology.disk(4).astype(float)\n",
    "\n",
    "plt.figure()\n",
    "plt.imshow(disk);"
   ]
  },
  {
   "cell_type": "markdown",
   "id": "fa89ce0a",
   "metadata": {},
   "source": [
    "To finalize the Bragg mask, we convolve the disk with the array with the delta-functions."
   ]
  },
  {
   "cell_type": "code",
   "execution_count": null,
   "id": "95a235ae",
   "metadata": {},
   "outputs": [],
   "source": [
    "mask = scipy.signal.fftconvolve(delta_mask, disk, mode='same')\n",
    "\n",
    "plt.figure()\n",
    "plt.imshow(mask);"
   ]
  },
  {
   "cell_type": "markdown",
   "id": "634aafd4",
   "metadata": {},
   "source": [
    "Note that the Bragg mask could be improved slightly making the edges of the disks smoother."
   ]
  },
  {
   "cell_type": "markdown",
   "id": "0327f0fe",
   "metadata": {},
   "source": [
    "### Apply Bragg filter \n",
    "\n",
    "We apply the Bragg mask to the Fourier transformed image. Here, we do not use windowing and we make sure to inverse shift the mask."
   ]
  },
  {
   "cell_type": "code",
   "execution_count": null,
   "id": "231075f3",
   "metadata": {},
   "outputs": [],
   "source": [
    "filtered = np.fft.ifft2(np.fft.fft2(image) * np.fft.ifftshift(mask))"
   ]
  },
  {
   "cell_type": "markdown",
   "id": "61ea787a",
   "metadata": {},
   "source": [
    "The result is complex-valued, to get the Bragg filtered image we select the real part."
   ]
  },
  {
   "cell_type": "code",
   "execution_count": null,
   "id": "d2966a92",
   "metadata": {},
   "outputs": [],
   "source": [
    "plt.figure()\n",
    "plt.imshow(filtered.real);"
   ]
  },
  {
   "cell_type": "markdown",
   "id": "3c4a0118",
   "metadata": {},
   "source": [
    "The Bragg filtered image shows a perfect graphene lattice. The trick to using Bragg filtering to finding the defects is to subtract the original image from the periodic Bragg filtered image.   "
   ]
  },
  {
   "cell_type": "code",
   "execution_count": null,
   "id": "bcf00014",
   "metadata": {},
   "outputs": [],
   "source": [
    "non_periodic = filtered - image\n",
    "\n",
    "plt.figure()\n",
    "plt.imshow(non_periodic.real);"
   ]
  },
  {
   "cell_type": "markdown",
   "id": "8bbbc2c9",
   "metadata": {},
   "source": [
    "### Blob detection"
   ]
  },
  {
   "cell_type": "code",
   "execution_count": null,
   "id": "de8cfc82",
   "metadata": {},
   "outputs": [],
   "source": [
    "blobs_log = skimage.feature.blob_log(filtered, \n",
    "                                     min_sigma=4, \n",
    "                                     max_sigma=12, \n",
    "                                     num_sigma=20, \n",
    "                                     threshold=.1,\n",
    "                                     exclude_border=10)\n",
    "\n",
    "plt.imshow(filtered);\n",
    "plt.scatter(blobs_log[:,1], blobs_log[:,0], s = 200, facecolors = 'none', edgecolors = 'r')"
   ]
  },
  {
   "cell_type": "code",
   "execution_count": null,
   "id": "7c53ee15",
   "metadata": {},
   "outputs": [],
   "source": [
    "plt.imshow(array);\n",
    "plt.scatter(blobs_log[:,1], blobs_log[:,0], s = 200, facecolors = 'none', edgecolors = 'r')"
   ]
  },
  {
   "cell_type": "markdown",
   "id": "d88fe8d0",
   "metadata": {},
   "source": []
  },
  {
   "cell_type": "markdown",
   "id": "42f0b8cd",
   "metadata": {},
   "source": [
    "### Next steps"
   ]
  },
  {
   "cell_type": "markdown",
   "id": "704d6d89",
   "metadata": {},
   "source": [
    "Jupyter notebooks are great for prototyping an analysis algorithm. However, once you have a working algorithm you should create proper numpy functions, preferably with documentation! \n",
    "\n",
    "Abstracting \n"
   ]
  }
 ],
 "metadata": {
  "kernelspec": {
   "display_name": "hspy_environment",
   "language": "python",
   "name": "hspy_environment"
  },
  "language_info": {
   "codemirror_mode": {
    "name": "ipython",
    "version": 3
   },
   "file_extension": ".py",
   "mimetype": "text/x-python",
   "name": "python",
   "nbconvert_exporter": "python",
   "pygments_lexer": "ipython3",
   "version": "3.10.4"
  }
 },
 "nbformat": 4,
 "nbformat_minor": 5
}
